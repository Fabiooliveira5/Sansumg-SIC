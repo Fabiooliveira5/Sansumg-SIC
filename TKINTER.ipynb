{
  "nbformat": 4,
  "nbformat_minor": 0,
  "metadata": {
    "colab": {
      "provenance": [],
      "authorship_tag": "ABX9TyPpXmxHSdTWK6OeydOqzf42",
      "include_colab_link": true
    },
    "kernelspec": {
      "name": "python3",
      "display_name": "Python 3"
    },
    "language_info": {
      "name": "python"
    }
  },
  "cells": [
    {
      "cell_type": "markdown",
      "metadata": {
        "id": "view-in-github",
        "colab_type": "text"
      },
      "source": [
        "<a href=\"https://colab.research.google.com/github/Fabiooliveira5/Sansumg-SIC/blob/main/TKINTER.ipynb\" target=\"_parent\"><img src=\"https://colab.research.google.com/assets/colab-badge.svg\" alt=\"Open In Colab\"/></a>"
      ]
    },
    {
      "cell_type": "code",
      "source": [
        "def clique():\n",
        "  label.config(text='O botão foi clicado')\n",
        "\n",
        "janela = tk.Tk()\n",
        "janela.geometry('1000x600')\n",
        "janela.title('Eventos com TKinter')\n",
        "\n",
        "\n",
        "botao = tk.button(janela, text='Clique aqui!', command=clique)\n",
        "botao.pack(pady=20)\n",
        "\n",
        "label = tk.label(janela, text='aguardando...')\n",
        "label.pack()\n",
        "\n",
        "\n",
        "\n",
        "\n"
      ],
      "metadata": {
        "id": "6flFrlgWafeP"
      },
      "execution_count": null,
      "outputs": []
    },
    {
      "cell_type": "code",
      "source": [
        "import tkinter as tk\n",
        "\n",
        "def calcular():\n",
        "    try:\n",
        "        resultado.set(eval(entrada.get()))\n",
        "    except:\n",
        "        resultado.set('ERRO')\n",
        "\n",
        "calculadora = tk.Tk()\n",
        "calculadora.title(\"Calculadora Inteligente\")\n",
        "\n",
        "entrada = tk.Entry(calculadora, width=16, font=('Arial', 24))\n",
        "entrada.grid(row=0, column=0, columnspan=4)\n",
        "\n",
        "\n",
        "botao_calcular = tk.Button(calculadora, text=\"=\", command=calcular, width=16, font=('Arial', 24))\n",
        "botao_calcular.grid(row=4, column=0, columnspan=10)\n",
        "\n",
        "resultado = tk.StringVar()\n",
        "label_resultado = tk.Label(calculadora, textvariable=resultado, width=16, font=('Arial', 24))\n",
        "label_resultado.grid(row=5, column=0, columnspan=10)\n",
        "\n",
        "calculadora.mainloop()\n",
        "\n"
      ],
      "metadata": {
        "id": "fylQza2VmCoY"
      },
      "execution_count": null,
      "outputs": []
    }
  ]
}